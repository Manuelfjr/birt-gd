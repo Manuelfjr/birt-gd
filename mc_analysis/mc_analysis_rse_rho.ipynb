{
 "cells": [
  {
   "cell_type": "markdown",
   "id": "e6127e18",
   "metadata": {},
   "source": [
    "# Imports"
   ]
  },
  {
   "cell_type": "code",
   "execution_count": null,
   "id": "80f6a4c5",
   "metadata": {},
   "outputs": [],
   "source": [
    "# basics\n",
    "import pandas as pd\n",
    "import numpy as np\n",
    "from scipy.stats import bootstrap\n",
    "\n",
    "\n",
    "# utils\n",
    "import os"
   ]
  },
  {
   "cell_type": "markdown",
   "id": "c695a76f",
   "metadata": {},
   "source": [
    "# Reading datasets"
   ]
  },
  {
   "cell_type": "code",
   "execution_count": null,
   "id": "4cb920ad",
   "metadata": {},
   "outputs": [],
   "source": [
    "models = ['beta4','beta3']\n",
    "datasets = [\n",
    "    'generate_data_mc30_m20_i100_e50000_t1000_lr1.0',\n",
    "    'generate_data_mc30_m50_i300_e50000_t1000_lr1.0',\n",
    "    'generate_data_mc30_m100_i100_e50000_t1000_lr1.0'#'generate_data_mc100_m20_i100_e10000_t1000_lr1.0',\n",
    "    #'generate_data_mc100_m50_i300_e10000_t1000_lr1.0',\n",
    "    #'generate_data_mc100_m100_i100_e10000_t1000_lr1.0'\n",
    "]\n",
    "URLs = [os.path.join(i,j+'.csv') for i in models for j in datasets]"
   ]
  },
  {
   "cell_type": "code",
   "execution_count": null,
   "id": "abf5a7dd",
   "metadata": {},
   "outputs": [],
   "source": [
    "URLs"
   ]
  },
  {
   "cell_type": "code",
   "execution_count": null,
   "id": "ae1d70cc",
   "metadata": {},
   "outputs": [],
   "source": [
    "data = {model: \n",
    "        {dataset: pd.read_csv(os.path.join(model, dataset+'.csv'),index_col=0) for dataset in datasets}  for model in models}"
   ]
  },
  {
   "cell_type": "code",
   "execution_count": null,
   "id": "f7b2664b",
   "metadata": {},
   "outputs": [],
   "source": [
    "data['beta4']['generate_data_mc30_m20_i100_e50000_t1000_lr1.0'].head()"
   ]
  },
  {
   "cell_type": "markdown",
   "id": "46f99898",
   "metadata": {},
   "source": [
    "# Processing"
   ]
  },
  {
   "cell_type": "code",
   "execution_count": null,
   "id": "21f29061",
   "metadata": {},
   "outputs": [],
   "source": [
    "datasets_shape = [\n",
    "    'N = 100, M = 20',\n",
    "    'N = 300, M = 50',\n",
    "    'N = 100, M = 100'\n",
    "]\n",
    "\n",
    "parameters = [\n",
    "    \"theta_i\",\n",
    "    \"delta_j\",\n",
    "    \"a_j\"\n",
    "]\n",
    "\n",
    "models_name = [\n",
    "    \"beta^{3}-IRT\",\n",
    "    #\"beta^{3}-IRT^{*}\",\n",
    "    \"beta^{4}-IRT\",\n",
    "]\n",
    "\n",
    "multi_index = []\n",
    "for shape in datasets_shape:\n",
    "    for param in parameters:\n",
    "        for name in models_name:\n",
    "            multi_index.append([shape,param,name])"
   ]
  },
  {
   "cell_type": "code",
   "execution_count": null,
   "id": "3c4cd877",
   "metadata": {},
   "outputs": [],
   "source": [
    "table = pd.DataFrame(multi_index, columns=['Dataset', 'Parameter', 'Model']).groupby(['Dataset','Parameter','Model']).count()"
   ]
  },
  {
   "cell_type": "code",
   "execution_count": null,
   "id": "775d365f",
   "metadata": {},
   "outputs": [],
   "source": [
    "table['RSE, 95% CI'] = [np.nan]*table.shape[0]\n",
    "table['rho, 95% CI'] = [np.nan]*table.shape[0]"
   ]
  },
  {
   "cell_type": "code",
   "execution_count": null,
   "id": "406c3acb",
   "metadata": {},
   "outputs": [],
   "source": [
    "table"
   ]
  },
  {
   "cell_type": "markdown",
   "id": "2d612397",
   "metadata": {},
   "source": [
    "# Bootstrap"
   ]
  },
  {
   "cell_type": "code",
   "execution_count": null,
   "id": "4ba7163a",
   "metadata": {},
   "outputs": [],
   "source": [
    "_datasets = ['generate_data_mc30_m100_i100_e50000_t1000_lr1.0',\n",
    "             'generate_data_mc30_m20_i100_e50000_t1000_lr1.0',\n",
    "             'generate_data_mc30_m50_i300_e50000_t1000_lr1.0']\n",
    "_parameters = ['_aj','_delj','_thi']#*len(_datasets)\n",
    "_models = ['beta3','beta4']#*len(_parameters)"
   ]
  },
  {
   "cell_type": "code",
   "execution_count": null,
   "id": "2e0854c5",
   "metadata": {},
   "outputs": [],
   "source": [
    "tmp = (data['beta4']['generate_data_mc30_m100_i100_e50000_t1000_lr1.0'].RSE_thi.T.values,)\n",
    "#calculate 95% bootstrapped confidence interval for median\n",
    "bootstrap_ci = bootstrap(tmp, \n",
    "                         np.mean, confidence_level=0.95,\n",
    "                         random_state=1, \n",
    "                         method='percentile')\n",
    "bootstrap_ci.confidence_interval.low,bootstrap_ci.confidence_interval.high"
   ]
  },
  {
   "cell_type": "code",
   "execution_count": null,
   "id": "5ef5792f",
   "metadata": {},
   "outputs": [],
   "source": [
    "RSE = []\n",
    "RHO = []\n",
    "for dataset in _datasets:\n",
    "    for param in _parameters:\n",
    "        for model in _models:\n",
    "            #print('running:')\n",
    "            #print(dataset +' '+param+' '+model)\n",
    "            tmp_rse = (data[model][dataset]['RSE'+param].values,)\n",
    "            tmp_rho = (data[model][dataset][\"corr\"+param+\"_to_pred\"+param].values,)\n",
    "\n",
    "            rse_bootstrap_ci = bootstrap(tmp_rse, \n",
    "                                         np.mean, confidence_level=0.95,\n",
    "                                         random_state=1, \n",
    "                                         method='percentile')\n",
    "            rho_bootstrap_ci = bootstrap(tmp_rho, \n",
    "                                         np.mean, confidence_level=0.95,\n",
    "                                         random_state=1, \n",
    "                                         method='percentile')\n",
    "            \n",
    "            values_rse = [round(rse_bootstrap_ci.confidence_interval.low,4),\n",
    "                          round(rse_bootstrap_ci.confidence_interval.high,4)]\n",
    "            values_rho = [round(rho_bootstrap_ci.confidence_interval.low,4),\n",
    "                          round(rho_bootstrap_ci.confidence_interval.high,4)]\n",
    "            \n",
    "            RSE.append(values_rse)\n",
    "            RHO.append(values_rho)"
   ]
  },
  {
   "cell_type": "code",
   "execution_count": null,
   "id": "014b0323",
   "metadata": {},
   "outputs": [],
   "source": [
    "table['RSE, 95% CI'] = RSE\n",
    "table['rho, 95% CI'] = RHO"
   ]
  },
  {
   "cell_type": "code",
   "execution_count": null,
   "id": "667c8a73",
   "metadata": {},
   "outputs": [],
   "source": [
    "table"
   ]
  },
  {
   "cell_type": "code",
   "execution_count": null,
   "id": "e0bf29aa",
   "metadata": {},
   "outputs": [],
   "source": [
    "#table\n",
    "print(table.to_latex(multirow=True))"
   ]
  },
  {
   "cell_type": "markdown",
   "id": "24fc786a",
   "metadata": {},
   "source": [
    "# Change sign"
   ]
  },
  {
   "cell_type": "code",
   "execution_count": null,
   "id": "64d6cf06",
   "metadata": {},
   "outputs": [],
   "source": [
    "datasets_shape = [\n",
    "    'N = 100, M = 20',\n",
    "    'N = 300, M = 50',\n",
    "    'N = 100, M = 100'\n",
    "]\n",
    "\n",
    "models_name = [\n",
    "    \"beta^{3}-IRT\",\n",
    "    \"beta^{4}-IRT\",\n",
    "]\n",
    "\n",
    "multi_index = []\n",
    "for shape in datasets_shape:\n",
    "    for name in models_name:\n",
    "        multi_index.append([shape,name])"
   ]
  },
  {
   "cell_type": "code",
   "execution_count": null,
   "id": "76a0c9f3",
   "metadata": {},
   "outputs": [],
   "source": [
    "table = pd.DataFrame(multi_index, columns=['Dataset', 'Model']).groupby(['Dataset','Model']).count()\n",
    "table"
   ]
  },
  {
   "cell_type": "code",
   "execution_count": null,
   "id": "66d9ebb7",
   "metadata": {},
   "outputs": [],
   "source": [
    "table['Inverted sign (%)'] = [np.nan]*table.shape[0]\n",
    "table['Time to fit (s)'] = [np.nan]*table.shape[0]"
   ]
  },
  {
   "cell_type": "code",
   "execution_count": null,
   "id": "3eb602a1",
   "metadata": {},
   "outputs": [],
   "source": [
    "table"
   ]
  },
  {
   "cell_type": "code",
   "execution_count": null,
   "id": "f6c77fe0",
   "metadata": {},
   "outputs": [],
   "source": [
    "SIGN = []\n",
    "TIME = []\n",
    "for dataset in _datasets:\n",
    "    for aj_sign_changed, time_stamp in zip(['aj_sign_changed'],['time_stamp']):\n",
    "        for model in _models:\n",
    "            print('running:')\n",
    "            print(dataset +' '+aj_sign_changed+' '+ time_stamp+' '+model)\n",
    "            tmp_aj_sign_changed = (data[model][dataset][aj_sign_changed].values,)\n",
    "            tmp_time_stamp = (data[model][dataset][time_stamp].values,)\n",
    "\n",
    "            sign_bootstrap_ci = bootstrap(tmp_aj_sign_changed, \n",
    "                                         np.mean, confidence_level=0.95,\n",
    "                                         random_state=1, \n",
    "                                         method='percentile')\n",
    "            time_bootstrap_ci = bootstrap(tmp_time_stamp, \n",
    "                                         np.mean, confidence_level=0.95,\n",
    "                                         random_state=1, \n",
    "                                         method='percentile')\n",
    "            \n",
    "            values_sign = [round(sign_bootstrap_ci.confidence_interval.low*100,4),\n",
    "                          round(sign_bootstrap_ci.confidence_interval.high*100,4)]\n",
    "            values_time = [round(time_bootstrap_ci.confidence_interval.low,4),\n",
    "                          round(time_bootstrap_ci.confidence_interval.high,4)]\n",
    "            \n",
    "            SIGN.append(values_sign)\n",
    "            TIME.append(values_time)"
   ]
  },
  {
   "cell_type": "code",
   "execution_count": null,
   "id": "3dcd75f1",
   "metadata": {},
   "outputs": [],
   "source": [
    "table['Inverted sign (%)'] = SIGN\n",
    "table['Time to fit (s)'] = TIME"
   ]
  },
  {
   "cell_type": "code",
   "execution_count": null,
   "id": "3bd433c9",
   "metadata": {},
   "outputs": [],
   "source": [
    "table"
   ]
  },
  {
   "cell_type": "code",
   "execution_count": null,
   "id": "1983dc04",
   "metadata": {},
   "outputs": [],
   "source": [
    "print(table.to_latex(multirow=True))"
   ]
  }
 ],
 "metadata": {
  "kernelspec": {
   "display_name": "Python 3 (ipykernel)",
   "language": "python",
   "name": "python3"
  },
  "language_info": {
   "codemirror_mode": {
    "name": "ipython",
    "version": 3
   },
   "file_extension": ".py",
   "mimetype": "text/x-python",
   "name": "python",
   "nbconvert_exporter": "python",
   "pygments_lexer": "ipython3",
   "version": "3.10.6"
  }
 },
 "nbformat": 4,
 "nbformat_minor": 5
}
