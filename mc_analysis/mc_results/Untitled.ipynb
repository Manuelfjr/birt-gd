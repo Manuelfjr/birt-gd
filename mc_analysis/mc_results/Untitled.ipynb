{
 "cells": [
  {
   "cell_type": "code",
   "execution_count": 122,
   "id": "ce20bb49",
   "metadata": {},
   "outputs": [],
   "source": [
    "import pandas as pd\n",
    "import os \n",
    "import seaborn as sns\n",
    "import matplotlib.pyplot as plt"
   ]
  },
  {
   "cell_type": "code",
   "execution_count": 58,
   "id": "566b8352",
   "metadata": {},
   "outputs": [],
   "source": [
    "DIR = 'mc_results'\n",
    "names = []\n",
    "names_f = []\n",
    "for i in os.listdir(DIR):\n",
    "    if '.csv' in i and '_t1000_' in i:\n",
    "        names.append(i)\n",
    "        names_f.append(i.split('_')[4] + '_' + i.split('_')[3])"
   ]
  },
  {
   "cell_type": "code",
   "execution_count": 59,
   "id": "8669b2f4",
   "metadata": {},
   "outputs": [
    {
     "data": {
      "text/plain": [
       "(['generate_data_mc100_m20_i100_e10000_t1000_lr1.0.csv',\n",
       "  'generate_data_mc100_m50_i300_e10000_t1000_lr1.0.csv',\n",
       "  'generate_data_mc100_m100_i100_e10000_t1000_lr1.0.csv'],\n",
       " ['i100_m20', 'i300_m50', 'i100_m100'])"
      ]
     },
     "execution_count": 59,
     "metadata": {},
     "output_type": "execute_result"
    }
   ],
   "source": [
    "names,names_f"
   ]
  },
  {
   "cell_type": "code",
   "execution_count": 60,
   "id": "5ff0ea23",
   "metadata": {},
   "outputs": [],
   "source": [
    "dfs = {j: pd.read_csv(os.path.join(DIR,i),index_col=0) for i,j in zip(names,names_f)}"
   ]
  },
  {
   "cell_type": "code",
   "execution_count": 68,
   "id": "ada5323d",
   "metadata": {},
   "outputs": [
    {
     "data": {
      "text/plain": [
       "Index(['aj_sign_changed', 'time_stamp'], dtype='object')"
      ]
     },
     "execution_count": 68,
     "metadata": {},
     "output_type": "execute_result"
    }
   ],
   "source": [
    "dfs['i100_m20'].columns[-2:]"
   ]
  },
  {
   "cell_type": "code",
   "execution_count": 69,
   "id": "f34ca4c8",
   "metadata": {},
   "outputs": [
    {
     "data": {
      "text/plain": [
       "[('i100_m20', 'aj_sign_changed'),\n",
       " ('i100_m20', 'time_stamp'),\n",
       " ('i300_m50', 'aj_sign_changed'),\n",
       " ('i300_m50', 'time_stamp'),\n",
       " ('i100_m100', 'aj_sign_changed'),\n",
       " ('i100_m100', 'time_stamp')]"
      ]
     },
     "execution_count": 69,
     "metadata": {},
     "output_type": "execute_result"
    }
   ],
   "source": [
    "multiId = []\n",
    "for i in names_f:\n",
    "    for j in dfs[i].columns[(-2):]:\n",
    "        multiId.append((i,j))\n",
    "multiId"
   ]
  },
  {
   "cell_type": "code",
   "execution_count": 87,
   "id": "c06af647",
   "metadata": {},
   "outputs": [
    {
     "data": {
      "text/html": [
       "<div>\n",
       "<style scoped>\n",
       "    .dataframe tbody tr th:only-of-type {\n",
       "        vertical-align: middle;\n",
       "    }\n",
       "\n",
       "    .dataframe tbody tr th {\n",
       "        vertical-align: top;\n",
       "    }\n",
       "\n",
       "    .dataframe thead tr th {\n",
       "        text-align: left;\n",
       "    }\n",
       "</style>\n",
       "<table border=\"1\" class=\"dataframe\">\n",
       "  <thead>\n",
       "    <tr>\n",
       "      <th>base</th>\n",
       "      <th colspan=\"2\" halign=\"left\">i100_m20</th>\n",
       "      <th colspan=\"2\" halign=\"left\">i300_m50</th>\n",
       "      <th colspan=\"2\" halign=\"left\">i100_m100</th>\n",
       "    </tr>\n",
       "    <tr>\n",
       "      <th>var</th>\n",
       "      <th>aj_sign_changed</th>\n",
       "      <th>time_stamp</th>\n",
       "      <th>aj_sign_changed</th>\n",
       "      <th>time_stamp</th>\n",
       "      <th>aj_sign_changed</th>\n",
       "      <th>time_stamp</th>\n",
       "    </tr>\n",
       "  </thead>\n",
       "  <tbody>\n",
       "  </tbody>\n",
       "</table>\n",
       "</div>"
      ],
      "text/plain": [
       "Empty DataFrame\n",
       "Columns: [(i100_m20, aj_sign_changed), (i100_m20, time_stamp), (i300_m50, aj_sign_changed), (i300_m50, time_stamp), (i100_m100, aj_sign_changed), (i100_m100, time_stamp)]\n",
       "Index: []"
      ]
     },
     "execution_count": 87,
     "metadata": {},
     "output_type": "execute_result"
    }
   ],
   "source": [
    "iterables = [names_f, [\"aj_sign_changed\", \"time_stamp\"]]\n",
    "\n",
    "mi = pd.MultiIndex.from_product(iterables, names=[\"base\", \"var\"])\n",
    "\n",
    "data = pd.DataFrame(columns=mi)\n",
    "data"
   ]
  },
  {
   "cell_type": "code",
   "execution_count": 90,
   "id": "ee4a57d7",
   "metadata": {},
   "outputs": [
    {
     "name": "stdout",
     "output_type": "stream",
     "text": [
      "--------------------\n",
      "i100_m20\n",
      "aj_sign_changed_av:  0.0659\n",
      "time_stamp_av:  66.3549026799202\n",
      "\n",
      "--------------------\n",
      "i300_m50\n",
      "aj_sign_changed_av:  0.04269999999999995\n",
      "time_stamp_av:  79.92958419561386\n",
      "\n",
      "--------------------\n",
      "i100_m100\n",
      "aj_sign_changed_av:  0.044099999999999986\n",
      "time_stamp_av:  72.96315476894378\n",
      "\n"
     ]
    }
   ],
   "source": [
    "for i in names_f:\n",
    "    print('{}'.format(''.join(['-']*20)))\n",
    "    print(i)\n",
    "    data[(i,'time_stamp')] = dfs[i].time_stamp\n",
    "    data[(i,'aj_sign_changed')] = dfs[i].aj_sign_changed\n",
    "    print('aj_sign_changed_av: ',dfs[i].aj_sign_changed.mean())\n",
    "    print('time_stamp_av: ',dfs[i].time_stamp.mean())\n",
    "    print()"
   ]
  },
  {
   "cell_type": "code",
   "execution_count": 107,
   "id": "acb08a6b",
   "metadata": {},
   "outputs": [
    {
     "name": "stdout",
     "output_type": "stream",
     "text": [
      "1\n",
      "2\n",
      "3\n"
     ]
    }
   ],
   "source": [
    "for i in range(1,4):\n",
    "    print(i)"
   ]
  },
  {
   "cell_type": "code",
   "execution_count": 143,
   "id": "8879dae3",
   "metadata": {
    "scrolled": false
   },
   "outputs": [
    {
     "data": {
      "image/png": "[encoded data removed]",
      "text/plain": [
       "<Figure size 864x576 with 1 Axes>"
      ]
     },
     "metadata": {
      "needs_background": "light"
     },
     "output_type": "display_data"
    }
   ],
   "source": [
    "new_data = data.iloc[:,[i for i in range(0,6) if i%2 == 0]].copy()\n",
    "plt.figure(figsize=(12,8))\n",
    "new_data.boxplot()\n",
    "plt.xticks(range(1,4), [i[0] for i in new_data.columns])\n",
    "plt.title(new_data.columns[0][1])\n",
    "plt.show()"
   ]
  },
  {
   "cell_type": "code",
   "execution_count": 146,
   "id": "6eb838ac",
   "metadata": {},
   "outputs": [
    {
     "data": {
      "text/html": [
       "<div>\n",
       "<style scoped>\n",
       "    .dataframe tbody tr th:only-of-type {\n",
       "        vertical-align: middle;\n",
       "    }\n",
       "\n",
       "    .dataframe tbody tr th {\n",
       "        vertical-align: top;\n",
       "    }\n",
       "\n",
       "    .dataframe thead tr th {\n",
       "        text-align: left;\n",
       "    }\n",
       "</style>\n",
       "<table border=\"1\" class=\"dataframe\">\n",
       "  <thead>\n",
       "    <tr>\n",
       "      <th>base</th>\n",
       "      <th>i100_m20</th>\n",
       "      <th>i300_m50</th>\n",
       "      <th>i100_m100</th>\n",
       "    </tr>\n",
       "    <tr>\n",
       "      <th>var</th>\n",
       "      <th>aj_sign_changed</th>\n",
       "      <th>aj_sign_changed</th>\n",
       "      <th>aj_sign_changed</th>\n",
       "    </tr>\n",
       "  </thead>\n",
       "  <tbody>\n",
       "    <tr>\n",
       "      <th>30</th>\n",
       "      <td>0.16</td>\n",
       "      <td>0.063333</td>\n",
       "      <td>0.04</td>\n",
       "    </tr>\n",
       "    <tr>\n",
       "      <th>41</th>\n",
       "      <td>0.15</td>\n",
       "      <td>0.050000</td>\n",
       "      <td>0.02</td>\n",
       "    </tr>\n",
       "    <tr>\n",
       "      <th>91</th>\n",
       "      <td>0.15</td>\n",
       "      <td>0.033333</td>\n",
       "      <td>0.05</td>\n",
       "    </tr>\n",
       "  </tbody>\n",
       "</table>\n",
       "</div>"
      ],
      "text/plain": [
       "base        i100_m20        i300_m50       i100_m100\n",
       "var  aj_sign_changed aj_sign_changed aj_sign_changed\n",
       "30              0.16        0.063333            0.04\n",
       "41              0.15        0.050000            0.02\n",
       "91              0.15        0.033333            0.05"
      ]
     },
     "execution_count": 146,
     "metadata": {},
     "output_type": "execute_result"
    }
   ],
   "source": [
    "new_data[new_data[('i100_m20','aj_sign_changed')] > 0.14]"
   ]
  },
  {
   "cell_type": "code",
   "execution_count": 128,
   "id": "ef817537",
   "metadata": {},
   "outputs": [
    {
     "data": {
      "image/png": "[encoded data removed]",
      "text/plain": [
       "<Figure size 864x576 with 1 Axes>"
      ]
     },
     "metadata": {
      "needs_background": "light"
     },
     "output_type": "display_data"
    }
   ],
   "source": [
    "new_data = data.iloc[:,[i for i in range(0,6) if i%2 != 0]].copy()\n",
    "plt.figure(figsize=(12,8))\n",
    "new_data.boxplot()\n",
    "plt.xticks(range(1,4), [i[0] for i in new_data.columns])\n",
    "plt.title(new_data.columns[0][1])\n",
    "plt.show()"
   ]
  },
  {
   "cell_type": "code",
   "execution_count": 142,
   "id": "fa060a73",
   "metadata": {},
   "outputs": [
    {
     "data": {
      "image/png": "[encoded data removed]",
      "text/plain": [
       "<Figure size 864x576 with 1 Axes>"
      ]
     },
     "metadata": {
      "needs_background": "light"
     },
     "output_type": "display_data"
    }
   ],
   "source": [
    "new_data = data.iloc[:,[i for i in range(0,6) if i%2 == 0]].copy()\n",
    "plt.figure(figsize=(12,8))\n",
    "a = 1\n",
    "for i in new_data.columns:\n",
    "    plt.hist(new_data[i],alpha=a)\n",
    "    a-=0.3\n",
    "plt.legend(labels=[i[0] for i in new_data.columns],\n",
    "          loc='best')\n",
    "plt.title(new_data.columns[0][1])\n",
    "plt.grid()\n",
    "plt.show()"
   ]
  },
  {
   "cell_type": "code",
   "execution_count": 141,
   "id": "06c1df22",
   "metadata": {},
   "outputs": [
    {
     "data": {
      "image/png": "[encoded data removed]",
      "text/plain": [
       "<Figure size 864x576 with 1 Axes>"
      ]
     },
     "metadata": {
      "needs_background": "light"
     },
     "output_type": "display_data"
    }
   ],
   "source": [
    "new_data = data.iloc[:,[i for i in range(0,6) if i%2 != 0]].copy()\n",
    "plt.figure(figsize=(12,8))\n",
    "a = 1\n",
    "for i in new_data.columns:\n",
    "    plt.hist(new_data[i],alpha=a)\n",
    "    a-=0.3\n",
    "plt.legend(labels=[i[0] for i in new_data.columns],\n",
    "          loc='best')\n",
    "plt.title(new_data.columns[0][1])\n",
    "plt.grid()\n",
    "plt.show()"
   ]
  }
 ],
 "metadata": {
  "kernelspec": {
   "display_name": "Python 3 (ipykernel)",
   "language": "python",
   "name": "python3"
  },
  "language_info": {
   "codemirror_mode": {
    "name": "ipython",
    "version": 3
   },
   "file_extension": ".py",
   "mimetype": "text/x-python",
   "name": "python",
   "nbconvert_exporter": "python",
   "pygments_lexer": "ipython3",
   "version": "3.9.12"
  }
 },
 "nbformat": 4,
 "nbformat_minor": 5
}
