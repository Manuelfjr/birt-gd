{
 "cells": [
  {
   "cell_type": "code",
   "execution_count": 1,
   "id": "c67f18cc",
   "metadata": {},
   "outputs": [],
   "source": [
    "import pandas as pd\n",
    "import os "
   ]
  },
  {
   "cell_type": "code",
   "execution_count": 2,
   "id": "b38f06e1",
   "metadata": {},
   "outputs": [],
   "source": [
    "names = []\n",
    "for i in os.listdir('.'):\n",
    "    if '.csv' in i:\n",
    "        names.append(i)"
   ]
  },
  {
   "cell_type": "code",
   "execution_count": 4,
   "id": "2967150b",
   "metadata": {},
   "outputs": [],
   "source": [
    "dfs = {i: pd.read_csv(i) for i in names}"
   ]
  },
  {
   "cell_type": "code",
   "execution_count": 13,
   "id": "b827f6bd",
   "metadata": {},
   "outputs": [
    {
     "data": {
      "text/plain": [
       "dict_keys(['generate_data_mc100_m20_i100_e10000_t1000_lr1.0.csv', 'generate_data_mc100_m50_i300_e10000_t1000_lr1.0.csv', 'generate_data_mc100_m50_i300_e10000_t10000_lr1.0.csv', 'generate_data_mc100_m20_i100_e10000_t5000_lr1.0.csv', 'generate_data_mc100_m20_i100_e10000_t10000_lr1.0.csv', 'generate_data_mc100_m100_i100_e10000_t10000_lr1.0.csv', 'generate_data_mc100_m100_i100_e10000_t1000_lr1.0.csv', 'generate_data_mc100_m50_i300_e10000_t0_lr1.0.csv', 'generate_data_mc100_m20_i100_e10000_t0_lr1.0.csv', 'generate_data_mc100_m100_i100_e10000_t0_lr1.0.csv', 'generate_data_mc100_m100_i100_e10000_t5000_lr1.0.csv', 'generate_data_mc100_m50_i300_e10000_t5000_lr1.0.csv'])"
      ]
     },
     "execution_count": 13,
     "metadata": {},
     "output_type": "execute_result"
    }
   ],
   "source": [
    "dfs.keys()"
   ]
  },
  {
   "cell_type": "code",
   "execution_count": 6,
   "id": "9d1471ed",
   "metadata": {},
   "outputs": [],
   "source": [
    "values = []\n",
    "for i in dfs.keys():\n",
    "    values.append(sum(dfs[i].time_stamp))"
   ]
  },
  {
   "cell_type": "code",
   "execution_count": 12,
   "id": "1151ab6b",
   "metadata": {},
   "outputs": [
    {
     "data": {
      "text/plain": [
       "1.0084735649410221"
      ]
     },
     "execution_count": 12,
     "metadata": {},
     "output_type": "execute_result"
    }
   ],
   "source": [
    "((sum(values)/60)/60)/24"
   ]
  },
  {
   "cell_type": "code",
   "execution_count": 15,
   "id": "9780d05a",
   "metadata": {},
   "outputs": [
    {
     "data": {
      "text/plain": [
       "['generate_data_mc100_m20_i100_e10000_t1000_lr1.0.csv',\n",
       " 'generate_data_mc100_m50_i300_e10000_t1000_lr1.0.csv',\n",
       " 'generate_data_mc100_m50_i300_e10000_t10000_lr1.0.csv',\n",
       " 'generate_data_mc100_m20_i100_e10000_t5000_lr1.0.csv',\n",
       " 'generate_data_mc100_m20_i100_e10000_t10000_lr1.0.csv',\n",
       " 'generate_data_mc100_m100_i100_e10000_t10000_lr1.0.csv',\n",
       " 'generate_data_mc100_m100_i100_e10000_t1000_lr1.0.csv',\n",
       " 'generate_data_mc100_m50_i300_e10000_t0_lr1.0.csv',\n",
       " 'generate_data_mc100_m20_i100_e10000_t0_lr1.0.csv',\n",
       " 'generate_data_mc100_m100_i100_e10000_t0_lr1.0.csv',\n",
       " 'generate_data_mc100_m100_i100_e10000_t5000_lr1.0.csv',\n",
       " 'generate_data_mc100_m50_i300_e10000_t5000_lr1.0.csv']"
      ]
     },
     "execution_count": 15,
     "metadata": {},
     "output_type": "execute_result"
    }
   ],
   "source": [
    "names"
   ]
  },
  {
   "cell_type": "code",
   "execution_count": 20,
   "id": "7a256dfb",
   "metadata": {},
   "outputs": [],
   "source": [
    "import numpy as np"
   ]
  },
  {
   "cell_type": "code",
   "execution_count": 21,
   "id": "456464eb",
   "metadata": {},
   "outputs": [
    {
     "data": {
      "text/html": [
       "<div>\n",
       "<style scoped>\n",
       "    .dataframe tbody tr th:only-of-type {\n",
       "        vertical-align: middle;\n",
       "    }\n",
       "\n",
       "    .dataframe tbody tr th {\n",
       "        vertical-align: top;\n",
       "    }\n",
       "\n",
       "    .dataframe thead th {\n",
       "        text-align: right;\n",
       "    }\n",
       "</style>\n",
       "<table border=\"1\" class=\"dataframe\">\n",
       "  <thead>\n",
       "    <tr style=\"text-align: right;\">\n",
       "      <th></th>\n",
       "      <th>time</th>\n",
       "    </tr>\n",
       "  </thead>\n",
       "  <tbody>\n",
       "    <tr>\n",
       "      <th>generate_data_mc100_m20_i100_e10000_t1000_lr1.0.csv</th>\n",
       "      <td>1.843192</td>\n",
       "    </tr>\n",
       "    <tr>\n",
       "      <th>generate_data_mc100_m50_i300_e10000_t1000_lr1.0.csv</th>\n",
       "      <td>2.220266</td>\n",
       "    </tr>\n",
       "    <tr>\n",
       "      <th>generate_data_mc100_m50_i300_e10000_t10000_lr1.0.csv</th>\n",
       "      <td>2.093104</td>\n",
       "    </tr>\n",
       "    <tr>\n",
       "      <th>generate_data_mc100_m20_i100_e10000_t5000_lr1.0.csv</th>\n",
       "      <td>1.879339</td>\n",
       "    </tr>\n",
       "    <tr>\n",
       "      <th>generate_data_mc100_m20_i100_e10000_t10000_lr1.0.csv</th>\n",
       "      <td>1.818580</td>\n",
       "    </tr>\n",
       "    <tr>\n",
       "      <th>generate_data_mc100_m100_i100_e10000_t10000_lr1.0.csv</th>\n",
       "      <td>1.961278</td>\n",
       "    </tr>\n",
       "    <tr>\n",
       "      <th>generate_data_mc100_m100_i100_e10000_t1000_lr1.0.csv</th>\n",
       "      <td>2.026754</td>\n",
       "    </tr>\n",
       "    <tr>\n",
       "      <th>generate_data_mc100_m50_i300_e10000_t0_lr1.0.csv</th>\n",
       "      <td>2.238161</td>\n",
       "    </tr>\n",
       "    <tr>\n",
       "      <th>generate_data_mc100_m20_i100_e10000_t0_lr1.0.csv</th>\n",
       "      <td>1.886591</td>\n",
       "    </tr>\n",
       "    <tr>\n",
       "      <th>generate_data_mc100_m100_i100_e10000_t0_lr1.0.csv</th>\n",
       "      <td>2.056017</td>\n",
       "    </tr>\n",
       "    <tr>\n",
       "      <th>generate_data_mc100_m100_i100_e10000_t5000_lr1.0.csv</th>\n",
       "      <td>2.070968</td>\n",
       "    </tr>\n",
       "    <tr>\n",
       "      <th>generate_data_mc100_m50_i300_e10000_t5000_lr1.0.csv</th>\n",
       "      <td>2.109115</td>\n",
       "    </tr>\n",
       "  </tbody>\n",
       "</table>\n",
       "</div>"
      ],
      "text/plain": [
       "                                                        time\n",
       "generate_data_mc100_m20_i100_e10000_t1000_lr1.0...  1.843192\n",
       "generate_data_mc100_m50_i300_e10000_t1000_lr1.0...  2.220266\n",
       "generate_data_mc100_m50_i300_e10000_t10000_lr1....  2.093104\n",
       "generate_data_mc100_m20_i100_e10000_t5000_lr1.0...  1.879339\n",
       "generate_data_mc100_m20_i100_e10000_t10000_lr1....  1.818580\n",
       "generate_data_mc100_m100_i100_e10000_t10000_lr1...  1.961278\n",
       "generate_data_mc100_m100_i100_e10000_t1000_lr1....  2.026754\n",
       "generate_data_mc100_m50_i300_e10000_t0_lr1.0.csv    2.238161\n",
       "generate_data_mc100_m20_i100_e10000_t0_lr1.0.csv    1.886591\n",
       "generate_data_mc100_m100_i100_e10000_t0_lr1.0.csv   2.056017\n",
       "generate_data_mc100_m100_i100_e10000_t5000_lr1....  2.070968\n",
       "generate_data_mc100_m50_i300_e10000_t5000_lr1.0...  2.109115"
      ]
     },
     "execution_count": 21,
     "metadata": {},
     "output_type": "execute_result"
    }
   ],
   "source": [
    "pd.DataFrame({\"time\":(np.array(values)/60/60)}, index=names)"
   ]
  },
  {
   "cell_type": "code",
   "execution_count": 14,
   "id": "f7b90a1d",
   "metadata": {},
   "outputs": [
    {
     "data": {
      "text/plain": [
       "[6635.49026799202,\n",
       " 7992.958419561386,\n",
       " 7535.175858259201,\n",
       " 6765.620239019394,\n",
       " 6546.886445045471,\n",
       " 7060.59939956665,\n",
       " 7296.315476894379,\n",
       " 8057.379348039627,\n",
       " 6791.72936630249,\n",
       " 7401.659483671188,\n",
       " 7455.4865798950195,\n",
       " 7592.815126657486]"
      ]
     },
     "execution_count": 14,
     "metadata": {},
     "output_type": "execute_result"
    }
   ],
   "source": [
    "values"
   ]
  },
  {
   "cell_type": "code",
   "execution_count": null,
   "id": "b4da9b79",
   "metadata": {},
   "outputs": [],
   "source": []
  }
 ],
 "metadata": {
  "kernelspec": {
   "display_name": "Python 3 (ipykernel)",
   "language": "python",
   "name": "python3"
  },
  "language_info": {
   "codemirror_mode": {
    "name": "ipython",
    "version": 3
   },
   "file_extension": ".py",
   "mimetype": "text/x-python",
   "name": "python",
   "nbconvert_exporter": "python",
   "pygments_lexer": "ipython3",
   "version": "3.9.12"
  }
 },
 "nbformat": 4,
 "nbformat_minor": 5
}
